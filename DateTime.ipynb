{
 "cells": [
  {
   "cell_type": "markdown",
   "id": "f8d36ef9",
   "metadata": {},
   "source": [
    "## The  DateTime module\n",
    "- how to handle date and time features with Python’s DateTime module\n"
   ]
  },
  {
   "cell_type": "markdown",
   "id": "6850d86f",
   "metadata": {},
   "source": [
    "### Working with Dates in Python\n",
    "The `date` class in the DateTime module of Python deals with dates in the Gregorian calendar. It accepts three integer arguments: year, month, and day. \n",
    "Example:"
   ]
  },
  {
   "cell_type": "code",
   "execution_count": 1,
   "id": "9c5dd003",
   "metadata": {},
   "outputs": [
    {
     "name": "stdout",
     "output_type": "stream",
     "text": [
      "2021-10-23\n",
      "<class 'datetime.date'>\n"
     ]
    }
   ],
   "source": [
    "from datetime import date\n",
    "\n",
    "d1 = date(2021,10,23)\n",
    "\n",
    "print(d1)\n",
    "\n",
    "print(type(d1))"
   ]
  },
  {
   "cell_type": "markdown",
   "id": "063bcc46",
   "metadata": {},
   "source": [
    "#### Extract `day`, `month`, and `year` from the date. This can be done using the day, month, and year attributes. "
   ]
  },
  {
   "cell_type": "code",
   "execution_count": 2,
   "id": "d4f9e1c5",
   "metadata": {},
   "outputs": [
    {
     "name": "stdout",
     "output_type": "stream",
     "text": [
      "2021-11-25\n",
      "Day : 25\n",
      "Month : 11\n",
      "Year : 2021\n"
     ]
    }
   ],
   "source": [
    "# present day date\n",
    "d1 = date.today()\n",
    "print(d1)\n",
    "# day\n",
    "print('Day :',d1.day)\n",
    "# month\n",
    "print('Month :',d1.month)\n",
    "# year\n",
    "print('Year :',d1.year)"
   ]
  },
  {
   "cell_type": "markdown",
   "id": "aae94541",
   "metadata": {},
   "source": [
    "### Working with Time in Python\n",
    "- time is another class of the DateTime module that accepts integer arguments for time up to microseconds and returns a DateTime object:"
   ]
  },
  {
   "cell_type": "code",
   "execution_count": 3,
   "id": "b74108a2",
   "metadata": {},
   "outputs": [
    {
     "name": "stdout",
     "output_type": "stream",
     "text": [
      "13:20:13.000040\n",
      "<class 'datetime.time'>\n"
     ]
    }
   ],
   "source": [
    "from datetime import time\n",
    "\n",
    "t1 = time(13,20,13,40)\n",
    "\n",
    "print(t1)\n",
    "\n",
    "print(type(t1))"
   ]
  },
  {
   "cell_type": "markdown",
   "id": "e0b659ba",
   "metadata": {},
   "source": [
    "**Extract hour, minute, second, and microsecond from the time object**"
   ]
  },
  {
   "cell_type": "code",
   "execution_count": 4,
   "id": "f5ce6a0b",
   "metadata": {},
   "outputs": [
    {
     "name": "stdout",
     "output_type": "stream",
     "text": [
      "Hour : 13\n",
      "Minute : 20\n",
      "Second : 13\n",
      "Microsecond : 40\n"
     ]
    }
   ],
   "source": [
    "# hour\n",
    "print('Hour :',t1.hour)\n",
    "# minute\n",
    "print('Minute :',t1.minute)\n",
    "# second\n",
    "print('Second :',t1.second)\n",
    "# microsecond\n",
    "print('Microsecond :',t1.microsecond)"
   ]
  },
  {
   "cell_type": "markdown",
   "id": "f07d8648",
   "metadata": {},
   "source": [
    "**creating a specific date object**"
   ]
  },
  {
   "cell_type": "code",
   "execution_count": 5,
   "id": "497553dd",
   "metadata": {},
   "outputs": [
    {
     "name": "stdout",
     "output_type": "stream",
     "text": [
      "2020-04-23 11:20:30.000040\n",
      "<class 'datetime.datetime'>\n"
     ]
    }
   ],
   "source": [
    "from datetime import datetime\n",
    "d1 = datetime(2020,4,23,11,20,30,40)\n",
    "print(d1)\n",
    "print(type(d1))"
   ]
  },
  {
   "cell_type": "code",
   "execution_count": 6,
   "id": "9a3bb09d",
   "metadata": {},
   "outputs": [
    {
     "data": {
      "text/plain": [
       "datetime.datetime(2021, 11, 25, 17, 20, 19, 113826)"
      ]
     },
     "execution_count": 6,
     "metadata": {},
     "output_type": "execute_result"
    }
   ],
   "source": [
    "# local date-time\n",
    "d1 = datetime.now()\n",
    "d1"
   ]
  },
  {
   "cell_type": "markdown",
   "id": "d0321bdb",
   "metadata": {},
   "source": [
    "### Updating old Dates\n",
    "- one can separate `date` and `time` from the DateTime object using the `date()` and `time()` methods. \n",
    "- one can replace a value in the DateTime object without having to change the entire date using the replace() method:"
   ]
  },
  {
   "cell_type": "code",
   "execution_count": 7,
   "id": "d82aef39",
   "metadata": {},
   "outputs": [
    {
     "name": "stdout",
     "output_type": "stream",
     "text": [
      "Datetime : 2021-11-25 17:20:19.113826\n",
      "Date : 2021-11-25\n",
      "Time : 17:20:19.113826\n",
      "New datetime : 2021-11-24 14:20:19.113826\n"
     ]
    }
   ],
   "source": [
    "print('Datetime :',d1)\n",
    "# date\n",
    "print('Date :',d1.date())\n",
    "# time\n",
    "print('Time :',d1.time())\n",
    "# new datetime\n",
    "print('New datetime :',d1.replace(day=24, hour=14))"
   ]
  },
  {
   "cell_type": "markdown",
   "id": "dfe363cc",
   "metadata": {},
   "source": [
    "### Weekday from DateTime\n",
    "- One can extract the day of the week! This is especially helpful in feature engineering because the value of the target variable can be dependent on the day of the week, like sales of a product are generally higher on a weekend or traffic on StackOverflow could be higher on a weekday when people are working, etc.\n",
    "\n",
    "The `weekday()` method returns an integer value for the day of the week, where Monday is 0 and Sunday is 6. But if you wanted it to return the weekday value between 1 and 7, use `isoweekday()`:"
   ]
  },
  {
   "cell_type": "code",
   "execution_count": 5,
   "id": "1fedc372",
   "metadata": {},
   "outputs": [
    {
     "name": "stdout",
     "output_type": "stream",
     "text": [
      "3\n",
      "4\n"
     ]
    }
   ],
   "source": [
    "d1 = datetime.now()\n",
    "# week starts from 0\n",
    "print(d1.weekday()) # output 3 for Thurday\n",
    "# week starts with 1\n",
    "print(d1.isoweekday()) # output 4 in ISO format"
   ]
  },
  {
   "cell_type": "markdown",
   "id": "ea3b911b",
   "metadata": {},
   "source": [
    "### What Week is it?\n",
    "Alright, you know the day of the week, but do you know what week of the year is it? This is another very important feature that you can generate from the given date in a dataset.\n",
    "\n",
    "Sometimes the value of the target variable might be higher during certain times of the year. For example, the sales of products on e-commerce websites are generally higher during vacations.\n",
    "\n",
    "You can get the week of the year by slicing the value returned by the isocalendar() method:"
   ]
  },
  {
   "cell_type": "code",
   "execution_count": 6,
   "id": "2306907c",
   "metadata": {},
   "outputs": [
    {
     "name": "stdout",
     "output_type": "stream",
     "text": [
      "(2021, 47, 4)\n",
      "Week : 47\n"
     ]
    }
   ],
   "source": [
    "d1 = datetime.now()\n",
    "# retuns year, week, month\n",
    "print(d1.isocalendar())\n",
    "print('Week :',d1.isocalendar()[1])"
   ]
  },
  {
   "cell_type": "markdown",
   "id": "acb1b39a",
   "metadata": {},
   "source": [
    "### Leap Year or Not? Use Calendar!\n",
    "Want to check whether it is a leap year or not? You will need to use the `isleap()` method from the calendar module and pass the year as an attribute:"
   ]
  },
  {
   "cell_type": "code",
   "execution_count": 8,
   "id": "2f2f76d4",
   "metadata": {},
   "outputs": [
    {
     "data": {
      "text/plain": [
       "False"
      ]
     },
     "execution_count": 8,
     "metadata": {},
     "output_type": "execute_result"
    }
   ],
   "source": [
    "import calendar\n",
    "d1 = datetime.now()\n",
    "# leap year or not\n",
    "calendar.isleap(d1.year) # Output True"
   ]
  },
  {
   "cell_type": "code",
   "execution_count": 9,
   "id": "d3c59516",
   "metadata": {},
   "outputs": [
    {
     "name": "stdout",
     "output_type": "stream",
     "text": [
      "   November 2021\n",
      "Mo Tu We Th Fr Sa Su\n",
      " 1  2  3  4  5  6  7\n",
      " 8  9 10 11 12 13 14\n",
      "15 16 17 18 19 20 21\n",
      "22 23 24 25 26 27 28\n",
      "29 30\n",
      "\n"
     ]
    }
   ],
   "source": [
    "# Its was Nov when I wrote this\n",
    "print(calendar.month(2021,11))"
   ]
  },
  {
   "cell_type": "markdown",
   "id": "2e119e44",
   "metadata": {},
   "source": [
    "### You can have a look at the entire calendar for the year"
   ]
  },
  {
   "cell_type": "code",
   "execution_count": 10,
   "id": "d0fc4066",
   "metadata": {},
   "outputs": [
    {
     "name": "stdout",
     "output_type": "stream",
     "text": [
      "                                  2021\n",
      "\n",
      "      January                   February                   March\n",
      "Mo Tu We Th Fr Sa Su      Mo Tu We Th Fr Sa Su      Mo Tu We Th Fr Sa Su\n",
      "             1  2  3       1  2  3  4  5  6  7       1  2  3  4  5  6  7\n",
      " 4  5  6  7  8  9 10       8  9 10 11 12 13 14       8  9 10 11 12 13 14\n",
      "11 12 13 14 15 16 17      15 16 17 18 19 20 21      15 16 17 18 19 20 21\n",
      "18 19 20 21 22 23 24      22 23 24 25 26 27 28      22 23 24 25 26 27 28\n",
      "25 26 27 28 29 30 31                                29 30 31\n",
      "\n",
      "       April                      May                       June\n",
      "Mo Tu We Th Fr Sa Su      Mo Tu We Th Fr Sa Su      Mo Tu We Th Fr Sa Su\n",
      "          1  2  3  4                      1  2          1  2  3  4  5  6\n",
      " 5  6  7  8  9 10 11       3  4  5  6  7  8  9       7  8  9 10 11 12 13\n",
      "12 13 14 15 16 17 18      10 11 12 13 14 15 16      14 15 16 17 18 19 20\n",
      "19 20 21 22 23 24 25      17 18 19 20 21 22 23      21 22 23 24 25 26 27\n",
      "26 27 28 29 30            24 25 26 27 28 29 30      28 29 30\n",
      "                          31\n",
      "\n",
      "        July                     August                  September\n",
      "Mo Tu We Th Fr Sa Su      Mo Tu We Th Fr Sa Su      Mo Tu We Th Fr Sa Su\n",
      "          1  2  3  4                         1             1  2  3  4  5\n",
      " 5  6  7  8  9 10 11       2  3  4  5  6  7  8       6  7  8  9 10 11 12\n",
      "12 13 14 15 16 17 18       9 10 11 12 13 14 15      13 14 15 16 17 18 19\n",
      "19 20 21 22 23 24 25      16 17 18 19 20 21 22      20 21 22 23 24 25 26\n",
      "26 27 28 29 30 31         23 24 25 26 27 28 29      27 28 29 30\n",
      "                          30 31\n",
      "\n",
      "      October                   November                  December\n",
      "Mo Tu We Th Fr Sa Su      Mo Tu We Th Fr Sa Su      Mo Tu We Th Fr Sa Su\n",
      "             1  2  3       1  2  3  4  5  6  7             1  2  3  4  5\n",
      " 4  5  6  7  8  9 10       8  9 10 11 12 13 14       6  7  8  9 10 11 12\n",
      "11 12 13 14 15 16 17      15 16 17 18 19 20 21      13 14 15 16 17 18 19\n",
      "18 19 20 21 22 23 24      22 23 24 25 26 27 28      20 21 22 23 24 25 26\n",
      "25 26 27 28 29 30 31      29 30                     27 28 29 30 31\n",
      "\n"
     ]
    }
   ],
   "source": [
    "print(calendar.calendar(2021))"
   ]
  },
  {
   "cell_type": "markdown",
   "id": "0c49d81e",
   "metadata": {},
   "source": [
    "#### DateTime Formats\n",
    "The Datetime module lets you interchange the format of DateTime between a few options.\n",
    "\n",
    "First up is the ISO format. If you want to create a DateTime object from the string form of the date in ISO format, use the `fromisoformat()` method. And if you intended to do the reverse, use the `isoformat()` method:"
   ]
  },
  {
   "cell_type": "code",
   "execution_count": 11,
   "id": "d177626d",
   "metadata": {},
   "outputs": [
    {
     "name": "stdout",
     "output_type": "stream",
     "text": [
      "2020-04-23\n",
      "<class 'datetime.date'>\n",
      "2020-04-23\n",
      "<class 'str'>\n"
     ]
    }
   ],
   "source": [
    "# ISO format\n",
    "d1_datetime = date.fromisoformat('2020-04-23')\n",
    "print(d1_datetime)\n",
    "print(type(d1_datetime))\n",
    "d1_ISO = date(2020,4,23).isoformat()\n",
    "print(d1_ISO)\n",
    "print(type(d1_ISO))"
   ]
  },
  {
   "cell_type": "markdown",
   "id": "fefe74e1",
   "metadata": {},
   "source": [
    "If you wanted to convert DateTime into a string format, you could use the `ctime()` method. This returns the date in a string format. And if you wanted to extract just the date from that, use slicing:"
   ]
  },
  {
   "cell_type": "code",
   "execution_count": 22,
   "id": "28f418b6",
   "metadata": {},
   "outputs": [
    {
     "name": "stdout",
     "output_type": "stream",
     "text": [
      "Thu Nov 25 08:22:52 2021\n",
      "Thu Nov 25\n"
     ]
    }
   ],
   "source": [
    "# date in string format\n",
    "d1 = datetime.now()\n",
    "# string format for date\n",
    "print(d1.ctime())\n",
    "# slicing to extract date\n",
    "print(d1.ctime()[:10])"
   ]
  },
  {
   "cell_type": "markdown",
   "id": "58e8f119",
   "metadata": {},
   "source": [
    "### Formatting with `Strptime` & `Strftime`\n",
    "These functions are very important as they let you define the format of the DateTime object explicitly. This can give you a lot of flexibility with handling DateTime features.\n",
    "\n",
    "`strptime()` creates a DateTime object from a string representing date and time. It takes two arguments: the date and the format in which your date is present. "
   ]
  },
  {
   "cell_type": "code",
   "execution_count": 12,
   "id": "6ae34499",
   "metadata": {},
   "outputs": [
    {
     "name": "stdout",
     "output_type": "stream",
     "text": [
      "2020-04-22 13:20:13\n",
      "<class 'datetime.datetime'>\n"
     ]
    }
   ],
   "source": [
    "# strptime\n",
    "date = '22 April, 2020 13:20:13'\n",
    "d1 = datetime.strptime(date,'%d %B, %Y %H:%M:%S')\n",
    "print(d1)\n",
    "print(type(d1))"
   ]
  },
  {
   "cell_type": "markdown",
   "id": "55403360",
   "metadata": {},
   "source": [
    "### what the arguments mean\n",
    "- %d refers to day of the month. In 20-10-2019, %d returns 20.\n",
    "- %m refers to month of the year. In 20-10-2019, %m returns 10.\n",
    "- %Y refers to year. The letter 'Y' is in upper case. In 20-10-2019, %Y returns 2019.\n",
    "- %y refers to year in two-digit format. In 20-10-2019, %y returns 19.\n",
    "\n",
    "### other arguments\n",
    "- %a returns the first three letter of the weekday Sun\n",
    "- %A returns the complete name of the weekday Sunday\n",
    "- %b returns the first three letters of the month Oct\n",
    "- %B returns the complete name of the month October"
   ]
  },
  {
   "cell_type": "markdown",
   "id": "8df916a6",
   "metadata": {},
   "source": [
    "The stftime() method, on the other hand, can be used to convert the DateTime object into a string representing date and time:"
   ]
  },
  {
   "cell_type": "code",
   "execution_count": 13,
   "id": "c9ba263a",
   "metadata": {},
   "outputs": [
    {
     "name": "stdout",
     "output_type": "stream",
     "text": [
      "Datetime object : 2021-11-25 17:25:20.302396\n",
      "Formatted date : 25/11/2021 17:25\n",
      "<class 'str'>\n"
     ]
    }
   ],
   "source": [
    "# strftime\n",
    "d1 = datetime.now()\n",
    "print('Datetime object :',d1)\n",
    "new_date = d1.strftime('%d/%m/%Y %H:%M')\n",
    "print('Formatted date :',new_date)\n",
    "print(type(new_date))"
   ]
  },
  {
   "cell_type": "markdown",
   "id": "9ddbb38e",
   "metadata": {},
   "source": [
    "But you can also extract some important information from the DateTime object like weekday name, month name, week number, etc. which can turn out to be very useful in terms of features as we saw in previous sections."
   ]
  },
  {
   "cell_type": "code",
   "execution_count": 14,
   "id": "fc2358ff",
   "metadata": {},
   "outputs": [
    {
     "name": "stdout",
     "output_type": "stream",
     "text": [
      "Weekday : Thursday\n",
      "Month : November\n",
      "Week number : 47\n",
      "Locale's date and time representation : Thu Nov 25 17:25:36 2021\n"
     ]
    }
   ],
   "source": [
    "d1 = datetime.now()\n",
    "print('Weekday :',d1.strftime('%A'))\n",
    "print('Month :',d1.strftime('%B'))\n",
    "print('Week number :',d1.strftime('%W'))\n",
    "print(\"Locale's date and time representation :\",d1.strftime('%c'))"
   ]
  },
  {
   "cell_type": "markdown",
   "id": "da36e7d3",
   "metadata": {},
   "source": [
    "### Timedelta\n",
    "So far, we have seen how to create a DateTime object and how to format it. But sometimes, you might have to find the duration between two dates, which can be another very useful feature that you can derive from a dataset. This duration is, however, returned as a timedelta object."
   ]
  },
  {
   "cell_type": "code",
   "execution_count": 15,
   "id": "6c5f5bf4",
   "metadata": {},
   "outputs": [
    {
     "name": "stdout",
     "output_type": "stream",
     "text": [
      "<class 'datetime.timedelta'>\n"
     ]
    },
    {
     "data": {
      "text/plain": [
       "datetime.timedelta(days=365, seconds=3600)"
      ]
     },
     "execution_count": 15,
     "metadata": {},
     "output_type": "execute_result"
    }
   ],
   "source": [
    "# timedelta : duration between dates\n",
    "d1 = datetime(2020,4,23,11,13,10)\n",
    "d2 = datetime(2021,4,23,12,13,10)\n",
    "duration = d2-d1\n",
    "print(type(duration))\n",
    "duration"
   ]
  },
  {
   "cell_type": "markdown",
   "id": "2289418c",
   "metadata": {},
   "source": [
    "As you can see, the duration is returned as the number of days for the date and seconds for the time between the dates. So you can actually retrieve these values for your features:"
   ]
  },
  {
   "cell_type": "code",
   "execution_count": 19,
   "id": "02f3fada",
   "metadata": {},
   "outputs": [
    {
     "name": "stdout",
     "output_type": "stream",
     "text": [
      "365\n",
      "3600\n"
     ]
    }
   ],
   "source": [
    "print(duration.days) # 365\n",
    "print(duration.seconds) # 3600"
   ]
  },
  {
   "cell_type": "markdown",
   "id": "cfdcba67",
   "metadata": {},
   "source": [
    "But what if you actually wanted the duration in hours or minutes? Well, there is a simple solution for that.\n",
    "\n",
    "timedelta is also a class in the DateTime module. So, you could use it to convert your duration into hours and minutes:\n",
    "\n"
   ]
  },
  {
   "cell_type": "code",
   "execution_count": 16,
   "id": "77f61665",
   "metadata": {},
   "outputs": [
    {
     "name": "stdout",
     "output_type": "stream",
     "text": [
      "Duration in hours : 8761.0\n",
      "Duration in minutes : 525660.0\n",
      "Duration in seconds : 31539600.0\n"
     ]
    }
   ],
   "source": [
    "from datetime import timedelta\n",
    "# duration in hours\n",
    "print('Duration in hours :',duration/timedelta(hours=1))\n",
    "# duration in minutes\n",
    "print('Duration in minutes :',duration/timedelta(minutes=1))\n",
    "# duration in seconds\n",
    "print('Duration in seconds :',duration/timedelta(seconds=1))"
   ]
  },
  {
   "cell_type": "markdown",
   "id": "df236284",
   "metadata": {},
   "source": [
    "**Now, what if you wanted to get the date 5 days from today? Do you simply add 5 to the present date?***"
   ]
  },
  {
   "cell_type": "code",
   "execution_count": 21,
   "id": "a418f606",
   "metadata": {},
   "outputs": [
    {
     "ename": "TypeError",
     "evalue": "unsupported operand type(s) for +: 'datetime.datetime' and 'int'",
     "output_type": "error",
     "traceback": [
      "\u001b[0;31m---------------------------------------------------------------------------\u001b[0m",
      "\u001b[0;31mTypeError\u001b[0m                                 Traceback (most recent call last)",
      "\u001b[0;32m<ipython-input-21-6399cec8b005>\u001b[0m in \u001b[0;36m<module>\u001b[0;34m\u001b[0m\n\u001b[1;32m      1\u001b[0m \u001b[0md1\u001b[0m \u001b[0;34m=\u001b[0m \u001b[0mdatetime\u001b[0m\u001b[0;34m.\u001b[0m\u001b[0mnow\u001b[0m\u001b[0;34m(\u001b[0m\u001b[0;34m)\u001b[0m\u001b[0;34m\u001b[0m\u001b[0;34m\u001b[0m\u001b[0m\n\u001b[0;32m----> 2\u001b[0;31m \u001b[0md1\u001b[0m\u001b[0;34m+\u001b[0m\u001b[0;36m5\u001b[0m\u001b[0;34m\u001b[0m\u001b[0;34m\u001b[0m\u001b[0m\n\u001b[0m",
      "\u001b[0;31mTypeError\u001b[0m: unsupported operand type(s) for +: 'datetime.datetime' and 'int'"
     ]
    }
   ],
   "source": [
    "d1 = datetime.now()\n",
    "d1+5"
   ]
  },
  {
   "cell_type": "markdown",
   "id": "9cb1b610",
   "metadata": {},
   "source": [
    "### You use timedelta\n",
    "\n",
    "timedelta makes it possible to add and subtract integers from a DateTime object."
   ]
  },
  {
   "cell_type": "code",
   "execution_count": 17,
   "id": "da37ab29",
   "metadata": {},
   "outputs": [
    {
     "name": "stdout",
     "output_type": "stream",
     "text": [
      "Today's date : 2021-11-25 17:26:52.316183\n",
      "Date 2 days from today : 2021-11-27 17:26:52.316183\n",
      "Date 2 weeks from today : 2021-12-09 17:26:52.316183\n"
     ]
    }
   ],
   "source": [
    "d1 = datetime.now()\n",
    "print(\"Today's date :\",d1)\n",
    "\n",
    "d2 = d1+timedelta(days=2)\n",
    "print(\"Date 2 days from today :\",d2)\n",
    "\n",
    "d3 = d1+timedelta(weeks=2)\n",
    "print(\"Date 2 weeks from today :\",d3)"
   ]
  },
  {
   "cell_type": "markdown",
   "id": "84234957",
   "metadata": {},
   "source": [
    "### Customizing Date Formats\n",
    "You can customize the format of dates by defining the date formats using strftime method. It converts date objects to strings."
   ]
  },
  {
   "cell_type": "code",
   "execution_count": 20,
   "id": "0403e03a",
   "metadata": {},
   "outputs": [
    {
     "data": {
      "text/plain": [
       "datetime.date(2019, 10, 20)"
      ]
     },
     "execution_count": 20,
     "metadata": {},
     "output_type": "execute_result"
    }
   ],
   "source": [
    "import datetime\n",
    "dt = datetime.date(2019, 10, 20)\n",
    "dt"
   ]
  },
  {
   "cell_type": "code",
   "execution_count": 37,
   "id": "438476b4",
   "metadata": {},
   "outputs": [
    {
     "data": {
      "text/plain": [
       "datetime.date(2021, 11, 25)"
      ]
     },
     "execution_count": 37,
     "metadata": {},
     "output_type": "execute_result"
    }
   ],
   "source": [
    "# what does this do?\n",
    "datetime.date.today()"
   ]
  },
  {
   "cell_type": "markdown",
   "id": "cb7e2c20",
   "metadata": {},
   "source": [
    "**Extract day, month and year from date values**\n"
   ]
  },
  {
   "cell_type": "code",
   "execution_count": 38,
   "id": "0b03837a",
   "metadata": {},
   "outputs": [
    {
     "name": "stdout",
     "output_type": "stream",
     "text": [
      "20\n",
      "10\n",
      "2019\n"
     ]
    }
   ],
   "source": [
    "print(dt.day)\n",
    "\n",
    "\n",
    "print(dt.month)\n",
    "\n",
    "\n",
    "print(dt.year)\n"
   ]
  },
  {
   "cell_type": "code",
   "execution_count": 21,
   "id": "7da25be1",
   "metadata": {},
   "outputs": [
    {
     "data": {
      "text/plain": [
       "'20-10-2019'"
      ]
     },
     "execution_count": 21,
     "metadata": {},
     "output_type": "execute_result"
    }
   ],
   "source": [
    "# format/customise\n",
    "dt.strftime(\"%d-%m-%Y\")"
   ]
  },
  {
   "cell_type": "markdown",
   "id": "e45e4ac7",
   "metadata": {},
   "source": [
    "### what the arguments mean\n",
    "- %d refers to day of the month. In 20-10-2019, %d returns 20.\n",
    "- %m refers to month of the year. In 20-10-2019, %m returns 10.\n",
    "- %Y refers to year. The letter 'Y' is in upper case. In 20-10-2019, %Y returns 2019.\n",
    "- %y refers to year in two-digit format. In 20-10-2019, %y returns 19.\n",
    "\n",
    "### other arguments\n",
    "- %a returns the first three letter of the weekday Sun\n",
    "- %A returns the complete name of the weekday Sunday\n",
    "- %b returns the first three letters of the month Oct\n",
    "- %B returns the complete name of the month October"
   ]
  },
  {
   "cell_type": "code",
   "execution_count": 22,
   "id": "2c370d0a",
   "metadata": {},
   "outputs": [
    {
     "data": {
      "text/plain": [
       "'20/10/2019'"
      ]
     },
     "execution_count": 22,
     "metadata": {},
     "output_type": "execute_result"
    }
   ],
   "source": [
    "dt.strftime(\"%d/%m/%Y\")"
   ]
  },
  {
   "cell_type": "code",
   "execution_count": 41,
   "id": "3c514959",
   "metadata": {},
   "outputs": [
    {
     "data": {
      "text/plain": [
       "'Oct 20, 2019'"
      ]
     },
     "execution_count": 41,
     "metadata": {},
     "output_type": "execute_result"
    }
   ],
   "source": [
    "dt.strftime(\"%b %d, %Y\")"
   ]
  },
  {
   "cell_type": "code",
   "execution_count": 42,
   "id": "af6f56a0",
   "metadata": {},
   "outputs": [
    {
     "data": {
      "text/plain": [
       "'October 20, 2019'"
      ]
     },
     "execution_count": 42,
     "metadata": {},
     "output_type": "execute_result"
    }
   ],
   "source": [
    "dt.strftime(\"%B %d, %Y\")"
   ]
  },
  {
   "cell_type": "code",
   "execution_count": 43,
   "id": "77ea2865",
   "metadata": {},
   "outputs": [
    {
     "data": {
      "text/plain": [
       "'Sun October 20, 2019'"
      ]
     },
     "execution_count": 43,
     "metadata": {},
     "output_type": "execute_result"
    }
   ],
   "source": [
    "dt.strftime(\"%a %B %d, %Y\")"
   ]
  },
  {
   "cell_type": "code",
   "execution_count": 44,
   "id": "e8fcc2bc",
   "metadata": {},
   "outputs": [
    {
     "data": {
      "text/plain": [
       "'Sunday October 20, 2019'"
      ]
     },
     "execution_count": 44,
     "metadata": {},
     "output_type": "execute_result"
    }
   ],
   "source": [
    "dt.strftime(\"%A %B %d, %Y\")"
   ]
  },
  {
   "cell_type": "code",
   "execution_count": 45,
   "id": "ec825a76",
   "metadata": {},
   "outputs": [
    {
     "data": {
      "text/plain": [
       "'Sunday, October 20, 2019'"
      ]
     },
     "execution_count": 45,
     "metadata": {},
     "output_type": "execute_result"
    }
   ],
   "source": [
    "dt.strftime(\"%A, %B %d, %Y\")"
   ]
  },
  {
   "cell_type": "markdown",
   "id": "5d3749a3",
   "metadata": {},
   "source": [
    "### Time\n",
    "Time values are defined with `datetime.time` class. It follows the syntax as shown below"
   ]
  },
  {
   "cell_type": "code",
   "execution_count": 23,
   "id": "a00b97dd",
   "metadata": {},
   "outputs": [
    {
     "name": "stdout",
     "output_type": "stream",
     "text": [
      "21:02:03\n"
     ]
    }
   ],
   "source": [
    "t = datetime.time(21, 2, 3)\n",
    "print(t)"
   ]
  },
  {
   "cell_type": "markdown",
   "id": "9459e412",
   "metadata": {},
   "source": [
    "### How to get hour, minute and seconds from time values"
   ]
  },
  {
   "cell_type": "code",
   "execution_count": 24,
   "id": "97d3df96",
   "metadata": {},
   "outputs": [
    {
     "name": "stdout",
     "output_type": "stream",
     "text": [
      "21\n",
      "2\n",
      "3\n",
      "0\n"
     ]
    }
   ],
   "source": [
    "print(t.hour)\n",
    "\n",
    "print(t.minute)\n",
    "\n",
    "print(t.second)\n",
    "\n",
    "print(t.microsecond)\n"
   ]
  },
  {
   "cell_type": "markdown",
   "id": "8a46ed4d",
   "metadata": {},
   "source": [
    "## How to convert time to AM PM format\n",
    "- %I converts 24 hour time format to 12 hour format.\n",
    "- %p returns AM PM based on time values.\n",
    "- %H returns hours of the time value.\n",
    "- %M returns minutes of the time value.\n",
    "- %S returns seconds of the time value.\n"
   ]
  },
  {
   "cell_type": "code",
   "execution_count": 25,
   "id": "dfb5a982",
   "metadata": {},
   "outputs": [
    {
     "data": {
      "text/plain": [
       "'09:02 PM'"
      ]
     },
     "execution_count": 25,
     "metadata": {},
     "output_type": "execute_result"
    }
   ],
   "source": [
    "t.strftime(\"%I:%M %p\")"
   ]
  },
  {
   "cell_type": "markdown",
   "id": "8b2a7f40",
   "metadata": {},
   "source": [
    "### Handle both dates and time\n",
    "`datetime` library has another class named datetime.datetime class which is used to represent date plus time. You can call it timestamp. now() or today() method of datetime class is used to extract current date and time."
   ]
  },
  {
   "cell_type": "code",
   "execution_count": 27,
   "id": "f9f8f8fc",
   "metadata": {},
   "outputs": [
    {
     "name": "stdout",
     "output_type": "stream",
     "text": [
      "2021-11-25 12:13:55.419630\n"
     ]
    }
   ],
   "source": [
    "dt = datetime.datetime.now()\n",
    "print(dt)"
   ]
  },
  {
   "cell_type": "markdown",
   "id": "d136e9c5",
   "metadata": {},
   "source": [
    "**%c represents locale date and time. %X represents locale time.**"
   ]
  },
  {
   "cell_type": "code",
   "execution_count": 26,
   "id": "2f09a1cf",
   "metadata": {},
   "outputs": [
    {
     "data": {
      "text/plain": [
       "'Sun Oct 20 00:00:00 2019'"
      ]
     },
     "execution_count": 26,
     "metadata": {},
     "output_type": "execute_result"
    }
   ],
   "source": [
    "dt.strftime(\"%c\")"
   ]
  },
  {
   "cell_type": "code",
   "execution_count": 27,
   "id": "305d895f",
   "metadata": {},
   "outputs": [
    {
     "data": {
      "text/plain": [
       "'Sunday October 20 00:00:00'"
      ]
     },
     "execution_count": 27,
     "metadata": {},
     "output_type": "execute_result"
    }
   ],
   "source": [
    "dt.strftime(\"%A %B %d %X\")"
   ]
  },
  {
   "cell_type": "code",
   "execution_count": 52,
   "id": "199b3229",
   "metadata": {},
   "outputs": [
    {
     "data": {
      "text/plain": [
       "'Thursday November 25 08:35'"
      ]
     },
     "execution_count": 52,
     "metadata": {},
     "output_type": "execute_result"
    }
   ],
   "source": [
    "dt.strftime(\"%A %B %d %H:%M\")"
   ]
  },
  {
   "cell_type": "code",
   "execution_count": 53,
   "id": "03f6a134",
   "metadata": {},
   "outputs": [
    {
     "data": {
      "text/plain": [
       "'20-07-2019 10-51'"
      ]
     },
     "execution_count": 53,
     "metadata": {},
     "output_type": "execute_result"
    }
   ],
   "source": [
    "## what does this do?\n",
    "dt = datetime.datetime(2019, 7, 20, 10, 51, 0)\n",
    "dt.strftime('%d-%m-%Y %H-%M')"
   ]
  },
  {
   "cell_type": "markdown",
   "id": "3e937a3e",
   "metadata": {},
   "source": [
    "### How to convert a string to datetime in python"
   ]
  },
  {
   "cell_type": "code",
   "execution_count": 54,
   "id": "2435b23a",
   "metadata": {},
   "outputs": [
    {
     "name": "stdout",
     "output_type": "stream",
     "text": [
      "2019-03-01 00:00:00\n"
     ]
    }
   ],
   "source": [
    "from dateutil.parser import parse\n",
    "print(parse('March 01, 2019'))"
   ]
  },
  {
   "cell_type": "markdown",
   "id": "dbe15e1c",
   "metadata": {},
   "source": [
    "#### How to get current time?\n",
    "We can use the same function we used in the previous section and extract time from the returned value using time() method."
   ]
  },
  {
   "cell_type": "code",
   "execution_count": 55,
   "id": "70e2c05b",
   "metadata": {},
   "outputs": [
    {
     "name": "stdout",
     "output_type": "stream",
     "text": [
      "10:51:00\n"
     ]
    }
   ],
   "source": [
    "print(dt.time())"
   ]
  },
  {
   "cell_type": "markdown",
   "id": "37afba2a",
   "metadata": {},
   "source": [
    "#### How to get current day of the week\n",
    "Suppose you want to extract the day number. 1 for Monday and 7 for Sunday. In the example below it returns 6 as it's Saturday on 20th July, 2019."
   ]
  },
  {
   "cell_type": "code",
   "execution_count": 56,
   "id": "377c242f",
   "metadata": {},
   "outputs": [
    {
     "data": {
      "text/plain": [
       "6"
      ]
     },
     "execution_count": 56,
     "metadata": {},
     "output_type": "execute_result"
    }
   ],
   "source": [
    "dt.isoweekday()"
   ]
  },
  {
   "cell_type": "markdown",
   "id": "26811b58",
   "metadata": {},
   "source": [
    "### Calculate future or past dates\n",
    "With `timedelta`, you can add or subtract days, weeks, hours, minutes, seconds, microseconds and milliseconds. It is very useful when you want to calculate future or past dates."
   ]
  },
  {
   "cell_type": "code",
   "execution_count": 57,
   "id": "8b143e7d",
   "metadata": {},
   "outputs": [
    {
     "name": "stdout",
     "output_type": "stream",
     "text": [
      "2019-08-19 10:51:00\n"
     ]
    }
   ],
   "source": [
    "#30 days ahead\n",
    "delta = datetime.timedelta(days=30)\n",
    "print(dt + delta)"
   ]
  },
  {
   "cell_type": "code",
   "execution_count": 58,
   "id": "01866eb2",
   "metadata": {},
   "outputs": [
    {
     "name": "stdout",
     "output_type": "stream",
     "text": [
      "2019-06-20 10:51:00\n"
     ]
    }
   ],
   "source": [
    "#30 days back\n",
    "print(dt - delta)"
   ]
  },
  {
   "cell_type": "code",
   "execution_count": 59,
   "id": "0e0da520",
   "metadata": {},
   "outputs": [
    {
     "name": "stdout",
     "output_type": "stream",
     "text": [
      "2019-07-30 14:21:30\n"
     ]
    }
   ],
   "source": [
    "delta = datetime.timedelta(days= 10, hours=3, minutes=30, seconds=30)\n",
    "print(dt + delta)"
   ]
  },
  {
   "cell_type": "code",
   "execution_count": 60,
   "id": "7b60eea3",
   "metadata": {},
   "outputs": [
    {
     "name": "stdout",
     "output_type": "stream",
     "text": [
      "2019-08-17 14:21:30\n"
     ]
    }
   ],
   "source": [
    "delta = datetime.timedelta(weeks= 4, hours=3, minutes=30, seconds=30)\n",
    "print(dt + delta)"
   ]
  },
  {
   "cell_type": "markdown",
   "id": "1f12b57f",
   "metadata": {},
   "source": [
    "In timedelta, months and years options are missing which means you cannot calculate future dates increment by month(s) or year(s). To accomplish this task, we can use dateutil package. Let's import this package by submitting the code below"
   ]
  },
  {
   "cell_type": "code",
   "execution_count": 62,
   "id": "e1500735",
   "metadata": {},
   "outputs": [],
   "source": [
    "# pip install python-dateutil\n",
    "from dateutil.relativedelta import *"
   ]
  },
  {
   "cell_type": "code",
   "execution_count": 63,
   "id": "a02b984a",
   "metadata": {},
   "outputs": [
    {
     "name": "stdout",
     "output_type": "stream",
     "text": [
      "2019-08-20 10:51:00\n"
     ]
    }
   ],
   "source": [
    "#1 Month ahead\n",
    "print(dt + relativedelta(months=+1))"
   ]
  },
  {
   "cell_type": "code",
   "execution_count": 64,
   "id": "d5b44c58",
   "metadata": {},
   "outputs": [
    {
     "name": "stdout",
     "output_type": "stream",
     "text": [
      "2019-06-20 10:51:00\n"
     ]
    }
   ],
   "source": [
    "#1 Month Back\n",
    "print(dt + relativedelta(months=-1))"
   ]
  },
  {
   "cell_type": "code",
   "execution_count": 65,
   "id": "b3c89dae",
   "metadata": {},
   "outputs": [
    {
     "name": "stdout",
     "output_type": "stream",
     "text": [
      "2019-08-27 10:51:00\n"
     ]
    }
   ],
   "source": [
    "#Next month, plus one week\n",
    "print(dt + relativedelta(months=+1, weeks=+1))"
   ]
  },
  {
   "cell_type": "code",
   "execution_count": 66,
   "id": "d56a40dd",
   "metadata": {},
   "outputs": [
    {
     "name": "stdout",
     "output_type": "stream",
     "text": [
      "2020-07-20 10:51:00\n"
     ]
    }
   ],
   "source": [
    "#Next Year\n",
    "print(dt + relativedelta(years=+1))"
   ]
  },
  {
   "cell_type": "markdown",
   "id": "235019f0",
   "metadata": {},
   "source": [
    "### Consider Leap Years\n",
    "relativedelta method from dateutil package takes care of leap year while calculating future or past dates. Year 2000 was a leap year so there were 29 days in the February month. But next year has only 28 days in February."
   ]
  },
  {
   "cell_type": "code",
   "execution_count": 67,
   "id": "494c3506",
   "metadata": {},
   "outputs": [
    {
     "name": "stdout",
     "output_type": "stream",
     "text": [
      "2001-02-28\n"
     ]
    }
   ],
   "source": [
    "print(datetime.date(2000, 2, 29)+ relativedelta(years=+1))"
   ]
  },
  {
   "cell_type": "markdown",
   "id": "43b560f1",
   "metadata": {},
   "source": [
    "### Difference between Two Dates\n",
    "Suppose you need to calculate the number of days between two dates. It is a very common data problem statement when you need to calculate the tenure of customers given the information - when they opened their account(start date) and when the accounts got closed (end date)."
   ]
  },
  {
   "cell_type": "code",
   "execution_count": 68,
   "id": "a1620278",
   "metadata": {},
   "outputs": [
    {
     "data": {
      "text/plain": [
       "305"
      ]
     },
     "execution_count": 68,
     "metadata": {},
     "output_type": "execute_result"
    }
   ],
   "source": [
    "date1 = datetime.date(2020, 10, 25)\n",
    "date2 = datetime.date(2019, 12, 25)\n",
    "diff = date1- date2\n",
    "diff.days"
   ]
  },
  {
   "cell_type": "markdown",
   "id": "665d4021",
   "metadata": {},
   "source": [
    "### Python pytz\n",
    "In case we want to use a different timezone than UTC, we can use the pytz module as shown below"
   ]
  },
  {
   "cell_type": "code",
   "execution_count": 29,
   "id": "99b88216",
   "metadata": {},
   "outputs": [],
   "source": [
    "import pytz\n",
    "#print(pytz.all_timezones_set)"
   ]
  },
  {
   "cell_type": "code",
   "execution_count": 73,
   "id": "df222e30",
   "metadata": {},
   "outputs": [
    {
     "name": "stdout",
     "output_type": "stream",
     "text": [
      "Year:  2021\n",
      "Month:  11\n",
      "Dat:  25\n",
      "Hour:  9\n",
      "Minute:  49\n",
      "Second:  48\n",
      "TimeZone info:  Europe/Madrid\n",
      "2021-11-25T09:49:48.712924+01:00\n"
     ]
    }
   ],
   "source": [
    "new_timezone = pytz.timezone('Europe/Madrid')\n",
    "datetime_object = datetime.datetime.now(tz=new_timezone)\n",
    "#print(datetime_object)\n",
    "print(\"Year: \", datetime_object.year)\n",
    "print(\"Month: \", datetime_object.month)\n",
    "print(\"Dat: \", datetime_object.day)\n",
    "print(\"Hour: \", datetime_object.hour)\n",
    "print(\"Minute: \", datetime_object.minute)\n",
    "print(\"Second: \", datetime_object.second)\n",
    "print(\"TimeZone info: \", datetime_object.tzinfo)\n",
    "print(datetime_object.isoformat())"
   ]
  },
  {
   "cell_type": "markdown",
   "id": "bbd43ea7",
   "metadata": {},
   "source": [
    "### Getting a date from a timestamp\n",
    "A Unix timestamp is a number of seconds in UTC format between a particular date and January 1, 1970 at UTC. It's a very standard way of dealing with datetime objects.\n",
    "\n"
   ]
  },
  {
   "cell_type": "code",
   "execution_count": 30,
   "id": "307efbf0",
   "metadata": {},
   "outputs": [
    {
     "data": {
      "text/plain": [
       "1637861460.0704708"
      ]
     },
     "execution_count": 30,
     "metadata": {},
     "output_type": "execute_result"
    }
   ],
   "source": [
    "# get current timestamp\n",
    "import time\n",
    "secondsSinceEpoch = time.time()\n",
    "secondsSinceEpoch"
   ]
  },
  {
   "cell_type": "code",
   "execution_count": 31,
   "id": "f97962a5",
   "metadata": {},
   "outputs": [
    {
     "name": "stdout",
     "output_type": "stream",
     "text": [
      "Timestamp:  1637861473.680024\n"
     ]
    }
   ],
   "source": [
    "## or this way\n",
    "datetime_object = datetime.datetime.now()\n",
    "print(\"Timestamp: \", datetime_object.timestamp())"
   ]
  },
  {
   "cell_type": "code",
   "execution_count": 32,
   "id": "709ee157",
   "metadata": {},
   "outputs": [
    {
     "name": "stdout",
     "output_type": "stream",
     "text": [
      "2021-11-25 08:54:22.124254+00:00\n",
      "Year:  2021\n",
      "Month:  11\n",
      "Dat:  25\n",
      "Hour:  8\n",
      "Minute:  54\n",
      "Second:  22\n",
      "TimeZone info:  UTC\n"
     ]
    }
   ],
   "source": [
    "timestamp = 1637830462.124254\n",
    "datetime_object = datetime.datetime.fromtimestamp(timestamp)\n",
    "# We also know that Unix timestamps are in UTC so we might as well \n",
    "# add the timezone info to our object.\n",
    "datetime_object = datetime_object.replace(tzinfo=datetime.timezone.utc)\n",
    "print(datetime_object)\n",
    "print(\"Year: \", datetime_object.year)\n",
    "print(\"Month: \", datetime_object.month)\n",
    "print(\"Dat: \", datetime_object.day)\n",
    "print(\"Hour: \", datetime_object.hour)\n",
    "print(\"Minute: \", datetime_object.minute)\n",
    "print(\"Second: \", datetime_object.second)\n",
    "print(\"TimeZone info: \", datetime_object.tzinfo)"
   ]
  },
  {
   "cell_type": "markdown",
   "id": "1161ca82",
   "metadata": {},
   "source": [
    "### Python strftime()\n",
    "The datetime module contains a very powerful method called strftime which helps us format the dates in whichever format we need."
   ]
  },
  {
   "cell_type": "code",
   "execution_count": 81,
   "id": "85e64b18",
   "metadata": {},
   "outputs": [
    {
     "name": "stdout",
     "output_type": "stream",
     "text": [
      "time: 08:57:32\n",
      "mm/dd/YY: 11/25/2021, 08:57:32\n",
      "dd/mm/YY: 25/11/2021, 08:57:32\n",
      "Timezone:  UTC\n",
      "Weekday:  Thursday\n",
      "Abbreviated Weekday:  Thu\n",
      "Locale representation:  Thu Nov 25 08:57:32 2021\n"
     ]
    }
   ],
   "source": [
    "# current date and time\n",
    "now = datetime.datetime.now(tz=pytz.timezone('UTC'))\n",
    "\n",
    "t = now.strftime(\"%H:%M:%S\")\n",
    "print(\"time:\", t)\n",
    "\n",
    "s1 = now.strftime(\"%m/%d/%Y, %H:%M:%S\")\n",
    "# mm/dd/YY H:M:S format\n",
    "print(\"mm/dd/YY:\", s1)\n",
    "\n",
    "s2 = now.strftime(\"%d/%m/%Y, %H:%M:%S\")\n",
    "# dd/mm/YY H:M:S format\n",
    "print(\"dd/mm/YY:\", s2)\n",
    "\n",
    "# Timezone\n",
    "print(\"Timezone: \", now.strftime(\"%Z\"))\n",
    "\n",
    "# Weekday\n",
    "print(\"Weekday: \", now.strftime(\"%A\"))\n",
    "\n",
    "# Abbreviated weekday\n",
    "print(\"Abbreviated Weekday: \", now.strftime(\"%a\"))\n",
    "\n",
    "\n",
    "# Locale's appropriate date and time representation\n",
    "print(\"Locale representation: \", now.strftime(\"%c\"))"
   ]
  },
  {
   "cell_type": "markdown",
   "id": "b31b314f",
   "metadata": {},
   "source": [
    "### Python strptime()\n",
    "As opposed to the strftime method, the strptime method takes in a string and converts it into datetime object. This method takes two paramaters. These are:\n",
    "\n",
    "- Date string\n",
    "- Date Format <br>\n",
    "\n",
    "The second parameter (format) is referring to the format directives. The same ones we used in strftime ('%A, %d, %Z .. etc.). It acts in the way that tells Strptime what is the format of the datetime string to be processed. Now let us work on few examples."
   ]
  },
  {
   "cell_type": "code",
   "execution_count": 33,
   "id": "2cd19288",
   "metadata": {},
   "outputs": [
    {
     "name": "stdout",
     "output_type": "stream",
     "text": [
      "<class 'datetime.datetime'>\n",
      "2021-08-23 15:23:52\n"
     ]
    }
   ],
   "source": [
    "import datetime\n",
    "datetime_string = '08/23/21 15:23:52'\n",
    "\n",
    "datetime_object = datetime.datetime.strptime(datetime_string, '%m/%d/%y %H:%M:%S')\n",
    "print(type(datetime_object))\n",
    "print(datetime_object)"
   ]
  },
  {
   "cell_type": "code",
   "execution_count": null,
   "id": "13e4bca9",
   "metadata": {},
   "outputs": [],
   "source": []
  }
 ],
 "metadata": {
  "kernelspec": {
   "display_name": "Python 3 (ipykernel)",
   "language": "python",
   "name": "python3"
  },
  "language_info": {
   "codemirror_mode": {
    "name": "ipython",
    "version": 3
   },
   "file_extension": ".py",
   "mimetype": "text/x-python",
   "name": "python",
   "nbconvert_exporter": "python",
   "pygments_lexer": "ipython3",
   "version": "3.9.12"
  }
 },
 "nbformat": 4,
 "nbformat_minor": 5
}
